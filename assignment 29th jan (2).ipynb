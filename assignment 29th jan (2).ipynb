{
 "cells": [
  {
   "cell_type": "code",
   "execution_count": null,
   "id": "a637eb73-6f32-4225-832f-247cec20a69d",
   "metadata": {},
   "outputs": [],
   "source": [
    "Q1: Who developed python programming language?"
   ]
  },
  {
   "cell_type": "code",
   "execution_count": null,
   "id": "b3ca42ad-6b92-4998-bff8-cd096e68f9df",
   "metadata": {},
   "outputs": [],
   "source": [
    "Ans: Guido van Rossum."
   ]
  },
  {
   "cell_type": "code",
   "execution_count": null,
   "id": "3aaa737c-c531-4a95-b72b-04a510006628",
   "metadata": {},
   "outputs": [],
   "source": [
    "Q2: Which type of programming does python support?"
   ]
  },
  {
   "cell_type": "code",
   "execution_count": null,
   "id": "bab474e2-7fdf-4efc-9ad5-c80ddcd9b817",
   "metadata": {},
   "outputs": [],
   "source": [
    "Ans: Object oriented programming and structured programming."
   ]
  },
  {
   "cell_type": "code",
   "execution_count": null,
   "id": "6837b9e9-e293-48c8-8506-4ddce9975395",
   "metadata": {},
   "outputs": [],
   "source": [
    "Q3: Is python case sensitive when dealing with identifiers? "
   ]
  },
  {
   "cell_type": "code",
   "execution_count": null,
   "id": "6561766b-bfd4-4de1-8107-aa6f380cb94a",
   "metadata": {},
   "outputs": [],
   "source": [
    "Ans: Yes, python is case sensitive language, so identifiers are case sensitive."
   ]
  },
  {
   "cell_type": "code",
   "execution_count": null,
   "id": "5a59613d-f74b-43a7-b007-93e3f234dbb3",
   "metadata": {},
   "outputs": [],
   "source": [
    "Q4: What is the correct extension of the python file?"
   ]
  },
  {
   "cell_type": "code",
   "execution_count": null,
   "id": "3f2cc7a9-0da2-4594-9ab6-26f58bd5f6b3",
   "metadata": {},
   "outputs": [],
   "source": [
    "Ans: .py"
   ]
  },
  {
   "cell_type": "code",
   "execution_count": null,
   "id": "f1076991-5f29-4346-99dc-15fe30a48a91",
   "metadata": {},
   "outputs": [],
   "source": [
    "Q5: Is python code compiled or interpreted?"
   ]
  },
  {
   "cell_type": "code",
   "execution_count": null,
   "id": "6ecf61bb-46a2-4e9b-9449-038a9e2bbcac",
   "metadata": {},
   "outputs": [],
   "source": [
    "Ans: Python is an interpreted language."
   ]
  },
  {
   "cell_type": "code",
   "execution_count": null,
   "id": "b441245d-2722-43c7-9b94-ff295cd96572",
   "metadata": {},
   "outputs": [],
   "source": [
    "Q6: Name a few blocks of code used to define in pyhthon language?"
   ]
  },
  {
   "cell_type": "code",
   "execution_count": null,
   "id": "620f25cb-b19d-4cc2-b433-cba0aa4b1f30",
   "metadata": {},
   "outputs": [],
   "source": [
    "Ans: Module, function body and class definition."
   ]
  },
  {
   "cell_type": "code",
   "execution_count": null,
   "id": "a9527d00-e90a-4183-aa38-c421722db6c0",
   "metadata": {},
   "outputs": [],
   "source": [
    "Q7: State a character used to give single-line comments in python?  "
   ]
  },
  {
   "cell_type": "code",
   "execution_count": null,
   "id": "b71fb4f3-84a3-498f-bf1c-5529962e08e2",
   "metadata": {},
   "outputs": [],
   "source": [
    "Ans: Single # character."
   ]
  },
  {
   "cell_type": "code",
   "execution_count": null,
   "id": "503634a2-ce5b-4e14-ab27-c809972460a3",
   "metadata": {},
   "outputs": [],
   "source": [
    "Q8: Mention functions which can help us to find the version of python that we are currently working on?"
   ]
  },
  {
   "cell_type": "code",
   "execution_count": null,
   "id": "dd007715-0ff9-48f7-8756-154590042cd7",
   "metadata": {},
   "outputs": [],
   "source": [
    "Ans: sys.version"
   ]
  },
  {
   "cell_type": "code",
   "execution_count": null,
   "id": "0f3570a3-5aa7-409c-a6b4-24612a342aca",
   "metadata": {},
   "outputs": [],
   "source": [
    "Q9: Python support the creation of anonymous functions at runtime, using a construct called....?"
   ]
  },
  {
   "cell_type": "code",
   "execution_count": null,
   "id": "2a4f8330-e7d7-4a8d-ab60-2243c64ad758",
   "metadata": {},
   "outputs": [],
   "source": [
    "Ans: Lambda."
   ]
  },
  {
   "cell_type": "code",
   "execution_count": null,
   "id": "16829721-f86a-4d4c-8d4f-83bc933e4437",
   "metadata": {},
   "outputs": [],
   "source": [
    "Q10: What does pip stand for python?"
   ]
  },
  {
   "cell_type": "code",
   "execution_count": null,
   "id": "ae038961-fbee-4e45-bdcf-1afbad6a261f",
   "metadata": {},
   "outputs": [],
   "source": [
    "Ans: Preferred Installer Program."
   ]
  },
  {
   "cell_type": "code",
   "execution_count": null,
   "id": "50bb374a-9e22-4c88-9fd7-bef3d5060c6e",
   "metadata": {},
   "outputs": [],
   "source": [
    "Q11: Mention a few built-in functions in python?"
   ]
  },
  {
   "cell_type": "code",
   "execution_count": null,
   "id": "fd6cedad-da4d-49ff-9884-deaa40c96b9d",
   "metadata": {},
   "outputs": [],
   "source": [
    "Ans: abs(), all(), ascii(), bool(), dict(), float(), len(), list() etc."
   ]
  },
  {
   "cell_type": "code",
   "execution_count": null,
   "id": "81adbeed-7646-4518-82f3-86bdd5a8d27d",
   "metadata": {},
   "outputs": [],
   "source": [
    "Q12: what is the maximum possible length of an identifier in python?"
   ]
  },
  {
   "cell_type": "code",
   "execution_count": null,
   "id": "7c929eb2-744f-42d5-8d4d-4d9cbbe932ae",
   "metadata": {},
   "outputs": [],
   "source": [
    "Ans: 79 characters."
   ]
  },
  {
   "cell_type": "code",
   "execution_count": null,
   "id": "c3f5deb1-46e5-4985-a537-a30471376dc7",
   "metadata": {},
   "outputs": [],
   "source": [
    "Q13: What are the benefits of using python?"
   ]
  },
  {
   "cell_type": "code",
   "execution_count": null,
   "id": "7ee0bb82-ac42-415a-86c4-9d4e50f1630a",
   "metadata": {},
   "outputs": [],
   "source": [
    "Ans: Ease of use, concise and straightforward syntax, and vast libraries. "
   ]
  },
  {
   "cell_type": "code",
   "execution_count": null,
   "id": "a746b948-177f-4b68-b8a2-c862ee744ffe",
   "metadata": {},
   "outputs": [],
   "source": [
    "Q14: How is memory managed in python?"
   ]
  },
  {
   "cell_type": "code",
   "execution_count": null,
   "id": "8178b249-f49c-409f-9c77-bdf6ffc55da4",
   "metadata": {},
   "outputs": [],
   "source": [
    "Ans: Memory management in python involves a private heap containing all python objects and data structures."
   ]
  },
  {
   "cell_type": "code",
   "execution_count": null,
   "id": "aaef2748-e8ad-4229-bb09-8b9b1718e18f",
   "metadata": {},
   "outputs": [],
   "source": [
    "Q15: How to install python in windows and set path variables?"
   ]
  },
  {
   "cell_type": "code",
   "execution_count": null,
   "id": "792d2a1d-14b5-4636-b3e8-2e1edb0894f0",
   "metadata": {},
   "outputs": [],
   "source": [
    "Ans: 1. Right click on My Computer and click on properties.\n",
    "2. Click on Advanced system settings.\n",
    "3. click on environment variable tab.\n",
    "4. click on new tab of user variables.\n",
    "5. write path in variable name.\n",
    "6. copy the path of python folder.\n",
    "7. paste path of python in variable value.\n",
    "8. click on ok button. \n",
    "9. again click on ok button."
   ]
  },
  {
   "cell_type": "code",
   "execution_count": null,
   "id": "47606066-2ea5-4f07-ac0b-04b361585b09",
   "metadata": {},
   "outputs": [],
   "source": [
    "Q16: Is indentation required in python?"
   ]
  },
  {
   "cell_type": "code",
   "execution_count": null,
   "id": "5ce909db-9855-4642-a243-f2ccaa8be1be",
   "metadata": {},
   "outputs": [],
   "source": [
    "Ans: Indentation is mendatory in python to define the blocks of statements."
   ]
  }
 ],
 "metadata": {
  "kernelspec": {
   "display_name": "Python 3 (ipykernel)",
   "language": "python",
   "name": "python3"
  },
  "language_info": {
   "codemirror_mode": {
    "name": "ipython",
    "version": 3
   },
   "file_extension": ".py",
   "mimetype": "text/x-python",
   "name": "python",
   "nbconvert_exporter": "python",
   "pygments_lexer": "ipython3",
   "version": "3.10.8"
  }
 },
 "nbformat": 4,
 "nbformat_minor": 5
}
